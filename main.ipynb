{
 "cells": [
  {
   "cell_type": "code",
   "execution_count": 1,
   "metadata": {},
   "outputs": [],
   "source": [
    "import torch\n",
    "from torch.utils.data import Dataset, DataLoader\n",
    "import torch.nn as nn\n",
    "import network\n",
    "import dataloader as dl\n",
    "import matplotlib.pyplot as plt"
   ]
  },
  {
   "cell_type": "code",
   "execution_count": 2,
   "metadata": {},
   "outputs": [
    {
     "name": "stdout",
     "output_type": "stream",
     "text": [
      "Using cpu device\n"
     ]
    }
   ],
   "source": [
    "device = (\n",
    "    \"cuda\"\n",
    "    if torch.cuda.is_available()\n",
    "    else \"mps\"\n",
    "    if torch.backends.mps.is_available()\n",
    "    else \"cpu\"\n",
    ")\n",
    "print(f\"Using {device} device\")"
   ]
  },
  {
   "cell_type": "code",
   "execution_count": 3,
   "metadata": {},
   "outputs": [],
   "source": [
    "Tokenizer = dl.Tokenizer()"
   ]
  },
  {
   "cell_type": "code",
   "execution_count": 4,
   "metadata": {},
   "outputs": [],
   "source": [
    "Tokenizer.addWord(\" \")\n",
    "Tokenizer.addWord(\"ham\")\n",
    "Tokenizer.addWord(\"spam\")\n",
    "train_dataset = dl.SpamData('train.csv', Tokenizer, 180)\n",
    "Tokenizer = train_dataset.get()\n",
    "test_dataset = dl.SpamData('test.csv', Tokenizer, 180)\n",
    "Tokenizer = test_dataset.get()"
   ]
  },
  {
   "cell_type": "code",
   "execution_count": 5,
   "metadata": {},
   "outputs": [],
   "source": [
    "train_data = DataLoader(train_dataset, 64, True)\n",
    "test_data = DataLoader(train_dataset, 64)"
   ]
  },
  {
   "cell_type": "code",
   "execution_count": 17,
   "metadata": {},
   "outputs": [
    {
     "name": "stdout",
     "output_type": "stream",
     "text": [
      "Train data distribution: Counter({0: 4825, 1: 747})\n",
      "Test data distribution: Counter({0: 970, 1: 145})\n"
     ]
    }
   ],
   "source": [
    "from collections import Counter\n",
    "\n",
    "train_labels = [label for _, label in train_dataset]\n",
    "test_labels = [label for _, label in test_dataset]\n",
    "\n",
    "print(\"Train data distribution:\", Counter(train_labels))\n",
    "print(\"Test data distribution:\", Counter(test_labels))\n"
   ]
  },
  {
   "cell_type": "code",
   "execution_count": 6,
   "metadata": {},
   "outputs": [],
   "source": [
    "model = network.Network().to(device)"
   ]
  },
  {
   "cell_type": "code",
   "execution_count": 7,
   "metadata": {},
   "outputs": [],
   "source": [
    "loss_fn = nn.NLLLoss()\n",
    "optimizer = torch.optim.Adagrad(model.parameters(), lr=1e-3)"
   ]
  },
  {
   "cell_type": "code",
   "execution_count": 19,
   "metadata": {},
   "outputs": [],
   "source": [
    "def train(dataloader, model, loss_fn, optimizer):\n",
    "    model.train()\n",
    "    losses = 0\n",
    "    for batch, (X, y) in enumerate(dataloader):\n",
    "        X, y = X.to(device), y.to(device)\n",
    "        pred = model(X)\n",
    "        loss = loss_fn(pred, y)\n",
    "        losses += loss.item()\n",
    "        loss.backward()\n",
    "        optimizer.step()\n",
    "        optimizer.zero_grad()\n",
    "    print(f\"Epoch completed. Avg loss: {losses/len(dataloader):>8f}\")  \n",
    "    return losses/len(dataloader)"
   ]
  },
  {
   "cell_type": "code",
   "execution_count": 9,
   "metadata": {},
   "outputs": [],
   "source": [
    "def test(dataloader, model, loss_fn):\n",
    "    size = len(dataloader.dataset)\n",
    "    num_batches = len(dataloader)\n",
    "    model.eval()\n",
    "    test_loss, correct = 0, 0\n",
    "    with torch.no_grad():\n",
    "        for X, y in dataloader:\n",
    "            X, y = X.to(device), y.to(device)\n",
    "            pred = model(X)\n",
    "            test_loss += loss_fn(pred, y).item()\n",
    "            correct += (pred.argmax(1) == y).type(torch.float).sum().item()\n",
    "    test_loss /= num_batches\n",
    "    correct /= size\n",
    "    print(f\"Test Error: \\n Accuracy: {(100*correct):>0.1f}%, Avg loss: {test_loss:>8f}\")\n",
    "    return test_loss"
   ]
  },
  {
   "cell_type": "code",
   "execution_count": 14,
   "metadata": {},
   "outputs": [],
   "source": [
    "def using(model, data):\n",
    "    model.eval()\n",
    "    with torch.no_grad():\n",
    "        data.to(device)\n",
    "        pred = model(data)\n",
    "        # return pred\n",
    "        return Tokenizer.Idx2Word(pred.argmax().item())"
   ]
  },
  {
   "cell_type": "code",
   "execution_count": 21,
   "metadata": {},
   "outputs": [
    {
     "name": "stdout",
     "output_type": "stream",
     "text": [
      "Epoch 1 is started!\n",
      "Epoch completed. Avg loss: 1.518505\n",
      "Test Error: \n",
      " Accuracy: 84.0%, Avg loss: 1.479771\n"
     ]
    },
    {
     "data": {
      "image/png": "[encoded data removed]",
      "text/plain": [
       "<Figure size 640x480 with 1 Axes>"
      ]
     },
     "metadata": {},
     "output_type": "display_data"
    }
   ],
   "source": [
    "epochs = 5\n",
    "test_losses = []\n",
    "train_losses = []\n",
    "for epoch in range(epochs):\n",
    "    print(f\"Epoch {epoch+1} is started!\")\n",
    "    train_losses.append(train(train_data, model, loss_fn, optimizer))\n",
    "    test_losses.append(test(test_data, model, loss_fn))\n",
    "# Проверка значений потерь\n",
    "\n",
    "# print(test_losses)\n",
    "plt.plot(train_losses, 'r')\n",
    "plt.plot(test_losses, 'g')\n",
    "plt.xlabel('Epochs')\n",
    "plt.ylabel('Losses')\n",
    "plt.show()"
   ]
  },
  {
   "cell_type": "code",
   "execution_count": 16,
   "metadata": {},
   "outputs": [
    {
     "data": {
      "text/plain": [
       "tensor([-0.0134, -4.3170])"
      ]
     },
     "execution_count": 16,
     "metadata": {},
     "output_type": "execute_result"
    }
   ],
   "source": [
    "import re\n",
    "text = [0] * 180\n",
    "pattern = r'[^a-zA-Z0-9\\s]'\n",
    "text_tmp1 = \"Hi Akiro, it’s been a while! Let’s grab coffee next week and catch up. Let me know your availability. Looking forward to it! Best, FordMerding\"\n",
    "text_tmp2 = \"Congratulations! You've won a $1,000 gift card. Click here to claim your reward. Act fast, this offer expires soon!\"\n",
    "text_tmp = re.sub(pattern, '', text_tmp1)\n",
    "text_tmp = text_tmp.split()\n",
    "for i in range(len(text_tmp)):\n",
    "    text[i] = Tokenizer.Word2Idx(text_tmp[i])\n",
    "text = torch.tensor(text, dtype=torch.float)    \n",
    "using(model, text)"
   ]
  }
 ],
 "metadata": {
  "kernelspec": {
   "display_name": "Python 3",
   "language": "python",
   "name": "python3"
  },
  "language_info": {
   "codemirror_mode": {
    "name": "ipython",
    "version": 3
   },
   "file_extension": ".py",
   "mimetype": "text/x-python",
   "name": "python",
   "nbconvert_exporter": "python",
   "pygments_lexer": "ipython3",
   "version": "3.12.3"
  }
 },
 "nbformat": 4,
 "nbformat_minor": 2
}
